{
  "nbformat": 4,
  "nbformat_minor": 0,
  "metadata": {
    "colab": {
      "name": "linked_stack.ipynb",
      "provenance": []
    },
    "kernelspec": {
      "name": "python3",
      "display_name": "Python 3"
    }
  },
  "cells": [
    {
      "cell_type": "code",
      "metadata": {
        "colab": {
          "base_uri": "https://localhost:8080/"
        },
        "id": "TO_kiOmEEbIP",
        "outputId": "fb88fd20-3f66-4b97-a085-95dbd4cd6592"
      },
      "source": [
        "class Node: \n",
        "\tdef __init__(self, data): \n",
        "\t\tself.data = data\n",
        "\t\tself.next = None\n",
        "\n",
        "class Stack:\n",
        "  def __init__(self): \n",
        "    self.head = None\n",
        "  \n",
        "  def push(self,data):\n",
        "    if self.head is None:\n",
        "      self.head = Node(data)\n",
        "    else:\n",
        "      newnode = Node(data)\n",
        "      newnode.next = self.head\n",
        "      self.head = newnode\n",
        "\n",
        "  def pop(self):         \n",
        "        if self.isEmpty():\n",
        "            print(\"Stack Underflow\")              \n",
        "        else:\n",
        "            self.head = self.head.next\n",
        "\n",
        "  def isEmpty(self):\n",
        "    if self.head is None:\n",
        "      return True\n",
        "    else:\n",
        "      return False\n",
        "\n",
        "  def size(self):\n",
        "    temp=self.head \n",
        "    count=0\n",
        "    while temp is not None: \n",
        "      count=count+1\n",
        "      temp=temp.next\n",
        "    return count \n",
        "\n",
        "  def peek(self):         \n",
        "        if self.isEmpty():\n",
        "            return None\n",
        "        else:\n",
        "            return self.head.data\n",
        "     \n",
        "  def display(self):        \n",
        "      iternode = self.head\n",
        "      if self.isEmpty():\n",
        "          print(\"Stack Underflow\")         \n",
        "      else:             \n",
        "          while(iternode != None):                 \n",
        "              print(iternode.data,\"->\",end = \" \")\n",
        "              iternode = iternode.next     \n",
        "\n",
        "stack = Stack()\n",
        "print(\"Stack operations\")\n",
        "print(\"Stack is empty:\",stack.isEmpty()) \n",
        "stack.push(12)\n",
        "stack.push(23)\n",
        "stack.push(34)\n",
        "stack.push(45)\n",
        "stack.push(56)\n",
        "stack.push(67)\n",
        "stack.display()\n",
        "print(\"\\nPeek element is \",stack.peek())\n",
        "print(\"Size of the stack is \",stack.size())\n",
        "stack.pop()\n",
        "stack.pop()\n",
        "print(\"After popping two elements\")\n",
        "stack.display()      \n",
        "print(\"\\nPeek element is \",stack.peek())\n",
        "print(\"Size of the stack is \",stack.size())\n",
        "print(\"Stack is empty:\",stack.isEmpty())\n",
        "stack.pop()\n",
        "stack.pop()\n",
        "stack.pop()\n",
        "print(\"After popping three elements\")\n",
        "stack.display()\n",
        "print(\"\\nPeek element is \",stack.peek())\n",
        "stack.pop()\n",
        "print(\"Stack is empty:\",stack.isEmpty())"
      ],
      "execution_count": 1,
      "outputs": [
        {
          "output_type": "stream",
          "text": [
            "Stack operations\n",
            "Stack is empty: True\n",
            "67 -> 56 -> 45 -> 34 -> 23 -> 12 -> \n",
            "Peek element is  67\n",
            "Size of the stack is  6\n",
            "After popping two elements\n",
            "45 -> 34 -> 23 -> 12 -> \n",
            "Peek element is  45\n",
            "Size of the stack is  4\n",
            "Stack is empty: False\n",
            "After popping three elements\n",
            "12 -> \n",
            "Peek element is  12\n",
            "Stack is empty: True\n"
          ],
          "name": "stdout"
        }
      ]
    },
    {
      "cell_type": "code",
      "metadata": {
        "id": "bZoHuhqeEk5c"
      },
      "source": [
        ""
      ],
      "execution_count": null,
      "outputs": []
    }
  ]
}