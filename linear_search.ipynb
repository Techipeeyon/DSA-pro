{
  "nbformat": 4,
  "nbformat_minor": 0,
  "metadata": {
    "colab": {
      "name": "linear_search.ipynb",
      "provenance": []
    },
    "kernelspec": {
      "name": "python3",
      "display_name": "Python 3"
    }
  },
  "cells": [
    {
      "cell_type": "code",
      "metadata": {
        "colab": {
          "base_uri": "https://localhost:8080/"
        },
        "id": "TO_kiOmEEbIP",
        "outputId": "24c8510d-ae99-4d06-ee94-cadca51b096b"
      },
      "source": [
        "def linear_Search(list1, n, key):  \n",
        "  \n",
        "    # Searching list1 sequentially  \n",
        "    for i in range(0, n):  \n",
        "        if (list1[i] == key):  \n",
        "            return i  \n",
        "    return -1  \n",
        "  \n",
        "  \n",
        "list1 = [1 ,3, 5, 4, 7, 9]  \n",
        "key = 10\n",
        "  \n",
        "n = len(list1)  \n",
        "res = linear_Search(list1, n, key)  \n",
        "if(res == -1):  \n",
        "    print(\"Element not found\")  \n",
        "else:  \n",
        "    print(\"Element found at index: \", res)"
      ],
      "execution_count": null,
      "outputs": [
        {
          "output_type": "stream",
          "text": [
            "Element not found\n"
          ],
          "name": "stdout"
        }
      ]
    },
    {
      "cell_type": "code",
      "metadata": {
        "id": "bZoHuhqeEk5c"
      },
      "source": [
        ""
      ],
      "execution_count": null,
      "outputs": []
    }
  ]
}