{
  "nbformat": 4,
  "nbformat_minor": 0,
  "metadata": {
    "colab": {
      "name": "linked_queue.ipynb",
      "provenance": []
    },
    "kernelspec": {
      "name": "python3",
      "display_name": "Python 3"
    }
  },
  "cells": [
    {
      "cell_type": "code",
      "metadata": {
        "colab": {
          "base_uri": "https://localhost:8080/"
        },
        "id": "NzqMnpT1MTLc",
        "outputId": "9df1d4de-d3a8-4b37-c8fd-9d419c2ec518"
      },
      "source": [
        "class Node: \n",
        "\tdef __init__(self, data): \n",
        "\t\tself.data = data\n",
        "\t\tself.next = None\n",
        "\t\t\n",
        "class Queue: \n",
        "\tdef __init__(self): \n",
        "\t\tself.head = None\n",
        "\t\tself.tail=None\n",
        "    \n",
        "\tdef enqueue(self, data): \n",
        "\t\tif self.tail is None: \n",
        "\t\t\tself.head =Node(data) \n",
        "\t\t\tself.tail =self.head \n",
        "\t\telse: \n",
        "\t\t\tself.tail.next = Node(data)\n",
        "\t\t\tself.tail = self.tail.next\n",
        "\t\t\t\n",
        "\tdef dequeue(self): \n",
        "\t\tif self.head is None: \n",
        "\t\t\treturn None\n",
        "\t\telse: \n",
        "\t\t\ttemp= self.head.data \n",
        "\t\t\tself.head = self.head.next\n",
        "\t\t\treturn temp \n",
        "\n",
        "\tdef first(self): \n",
        "\t\treturn self.head.data \n",
        "\n",
        "\tdef size(self): \n",
        "\t\ttemp=self.head \n",
        "\t\tcount=0\n",
        "\t\twhile temp is not None: \n",
        "\t\t\tcount=count+1\n",
        "\t\t\ttemp=temp.next\n",
        "\t\treturn count \n",
        "\t\n",
        "\tdef isEmpty(self): \n",
        "\t\tif self.head is None: \n",
        "\t\t\treturn True\n",
        "\t\telse: \n",
        "\t\t\treturn False\n",
        "\t\t\t\n",
        "\tdef printqueue(self): \n",
        "\t\tprint(\"queue elements are:\") \n",
        "\t\ttemp=self.head \n",
        "\t\twhile temp is not None: \n",
        "\t\t\tprint(temp.data,end=\"->\") \n",
        "\t\t\ttemp=temp.next\n",
        "\t\n",
        "if __name__=='__main__': \n",
        "    queue = Queue() \n",
        "    print(\"Queue operations\")\n",
        "    queue.enqueue(4) \n",
        "    queue.enqueue(5) \n",
        "    queue.enqueue(6) \n",
        "    queue.enqueue(7) \n",
        "    queue.printqueue() \n",
        "    print(\"\\nfirst element is \",queue.first()) \n",
        "    print(\"Size of the queue is \",queue.size()) \n",
        "    queue.dequeue() \n",
        "    queue.dequeue() \n",
        "    print(\"After applying dequeue() two times\") \n",
        "    queue.printqueue() \n",
        "    print(\"\\nqueue is empty:\",queue.isEmpty())"
      ],
      "execution_count": null,
      "outputs": [
        {
          "output_type": "stream",
          "text": [
            "Queue operations\n",
            "queue elements are:\n",
            "4->5->6->7->\n",
            "first element is  4\n",
            "Size of the queue is  4\n",
            "After applying dequeue() two times\n",
            "queue elements are:\n",
            "6->7->\n",
            "queue is empty: False\n"
          ],
          "name": "stdout"
        }
      ]
    },
    {
      "cell_type": "code",
      "metadata": {
        "colab": {
          "base_uri": "https://localhost:8080/"
        },
        "id": "DuEH5nQwfgBG",
        "outputId": "84aae59f-fc96-4081-b2b9-51a1a07c6879"
      },
      "source": [
        ""
      ],
      "execution_count": null,
      "outputs": [
        {
          "output_type": "stream",
          "text": [
            "Stack operations\n",
            "Stack is empty: True\n",
            "67 -> 56 -> 45 -> 34 -> 23 -> 12 -> \n",
            "Peek element is  67\n",
            "Size of the stack is  6\n",
            "After popping two elements\n",
            "45 -> 34 -> 23 -> 12 -> \n",
            "Peek element is  45\n",
            "Size of the stack is  4\n",
            "Stack is empty: False\n",
            "After popping three elements\n",
            "12 -> \n",
            "Peek element is  12\n",
            "Stack is empty: True\n"
          ],
          "name": "stdout"
        }
      ]
    }
  ]
}